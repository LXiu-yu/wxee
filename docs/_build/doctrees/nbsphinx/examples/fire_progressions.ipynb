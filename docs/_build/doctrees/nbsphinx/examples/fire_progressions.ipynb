{
 "cells": [
  {
   "cell_type": "markdown",
   "id": "cda76d61",
   "metadata": {},
   "source": [
    "# Fire Progressions"
   ]
  },
  {
   "cell_type": "markdown",
   "id": "54666b51",
   "metadata": {},
   "source": [
    "`wxee` is designed for processing weather data, but it can also be useful for remote sensing data. In this example, we'll look at how `wxee` can work with data from the GOES-16 and MODIS to visualize fire progressions over time."
   ]
  },
  {
   "cell_type": "markdown",
   "id": "6fa491a3",
   "metadata": {},
   "source": [
    "## Setup"
   ]
  },
  {
   "cell_type": "code",
   "execution_count": null,
   "id": "56349485",
   "metadata": {},
   "outputs": [],
   "source": [
    "!pip install wxee"
   ]
  },
  {
   "cell_type": "code",
   "execution_count": 1,
   "id": "6bc5c66a",
   "metadata": {},
   "outputs": [],
   "source": [
    "import ee\n",
    "import wxee\n",
    "\n",
    "ee.Authenticate()\n",
    "ee.Initialize()"
   ]
  },
  {
   "cell_type": "markdown",
   "id": "299b65e2",
   "metadata": {},
   "source": [
    "## Daily Progressions from MODIS\n",
    "One of the products captured by the MODIS sensor is fire hotspot detections. We'll use `wxee` to load daily hotspots for the 2021 Caldor fire in California and visualize them by the time of burning."
   ]
  },
  {
   "cell_type": "markdown",
   "id": "4482e615",
   "metadata": {},
   "source": [
    "### Downloading MODIS Data to xarray"
   ]
  },
  {
   "cell_type": "markdown",
   "id": "2bc9a357",
   "metadata": {},
   "source": [
    "To start with, we'll load 14 days of MODIS data as a `TimeSeries`."
   ]
  },
  {
   "cell_type": "code",
   "execution_count": 2,
   "id": "1eb24867",
   "metadata": {},
   "outputs": [
    {
     "name": "stdout",
     "output_type": "stream",
     "text": [
      "\u001b[1mMODIS/006/MOD14A1\u001b[0m\n",
      "\tImages: 14\n",
      "\tStart date: 2021-08-15 00:00:00 UTC\n",
      "\tEnd date: 2021-08-28 00:00:00 UTC\n",
      "\tMean interval: 1.00 days\n"
     ]
    }
   ],
   "source": [
    "modis = wxee.TimeSeries(\"MODIS/006/MOD14A1\").filterDate(\"2021-08-15\", \"2021-08-29\").select(\"FireMask\")\n",
    "\n",
    "modis.describe()"
   ]
  },
  {
   "cell_type": "markdown",
   "id": "3fa23a8e",
   "metadata": {},
   "source": [
    "The `FireMask` band contains codes indicating the confidence of fire detections. First, we'll use `map` to turn those codes into binary images of fire presence, copying properties over so we don't lose any time information."
   ]
  },
  {
   "cell_type": "code",
   "execution_count": 3,
   "id": "681ebbad",
   "metadata": {},
   "outputs": [],
   "source": [
    "fire_masks = modis.map(lambda img: img.eq(9).copyProperties(img, img.propertyNames()))"
   ]
  },
  {
   "cell_type": "markdown",
   "id": "3090624d",
   "metadata": {},
   "source": [
    "Now we'll specify a bounding box around the Caldor fire and download the `TimeSeries` to an `xarray.Dataset`."
   ]
  },
  {
   "cell_type": "code",
   "execution_count": 4,
   "id": "e7cdd11f",
   "metadata": {},
   "outputs": [
    {
     "data": {
      "application/vnd.jupyter.widget-view+json": {
       "model_id": "ccf40686c60c4b3e9154f6fc6fa68746",
       "version_major": 2,
       "version_minor": 0
      },
      "text/plain": [
       "Downloading collection:   0%|          | 0/14 [00:00<?, ?it/s]"
      ]
     },
     "metadata": {},
     "output_type": "display_data"
    }
   ],
   "source": [
    "region = ee.Geometry.Polygon(\n",
    "        [[[-120.70580745719522, 38.90798203224902],\n",
    "          [-120.70580745719522, 38.51793451346024],\n",
    "          [-120.03014827750772, 38.51793451346024],\n",
    "          [-120.03014827750772, 38.90798203224902]]]\n",
    ")\n",
    "\n",
    "ds = fire_masks.wx.to_xarray(scale=1000, region=region, crs=\"EPSG:26910\")"
   ]
  },
  {
   "cell_type": "markdown",
   "id": "1e61039b",
   "metadata": {},
   "source": [
    "### Visualizing the Progression"
   ]
  },
  {
   "cell_type": "markdown",
   "id": "0cf55ac2",
   "metadata": {},
   "source": [
    "The result will be 14 binary fire masks. Let's take a look."
   ]
  },
  {
   "cell_type": "code",
   "execution_count": 5,
   "id": "ad721c8a",
   "metadata": {},
   "outputs": [
    {
     "data": {
      "text/plain": [
       "<xarray.plot.facetgrid.FacetGrid at 0x7f6f50080490>"
      ]
     },
     "execution_count": 5,
     "metadata": {},
     "output_type": "execute_result"
    },
    {
     "data": {
      "image/png": "[encoded data removed]",
      "text/plain": [
       "<Figure size 1584x432 with 15 Axes>"
      ]
     },
     "metadata": {
      "needs_background": "light"
     },
     "output_type": "display_data"
    }
   ],
   "source": [
    "ds.FireMask.plot(col=\"time\", col_wrap=7)"
   ]
  },
  {
   "cell_type": "markdown",
   "id": "bcb937ad",
   "metadata": {},
   "source": [
    "That shows us how the fire grew over time, but maybe we want a single summary image describing that progression. Let's calculate the first day that a given pixel burned. Rather than storing specific times, we'll represent them as time elapsed since the beginning of the time series."
   ]
  },
  {
   "cell_type": "markdown",
   "id": "107cd931",
   "metadata": {},
   "source": [
    "First, get the start time of the time series and calculate the number of hours elapsed between each time step and the start time."
   ]
  },
  {
   "cell_type": "code",
   "execution_count": 6,
   "id": "7ef848e8",
   "metadata": {},
   "outputs": [],
   "source": [
    "start = ds.time.min()\n",
    "delta_days = (ds.time - start).dt.days"
   ]
  },
  {
   "cell_type": "markdown",
   "id": "bfc29040",
   "metadata": {},
   "source": [
    "Now, we'll multiply the time delta by the fire mask. Because non-fire pixels have a value of 0, this will give us a 3D array with elapsed days since start for each hotspot pixel and values of 0 for all other pixels. We cast from a `timedelta` to an `int` to allow plotting."
   ]
  },
  {
   "cell_type": "code",
   "execution_count": 7,
   "id": "06009d24",
   "metadata": {},
   "outputs": [],
   "source": [
    "delta_days_fire = (ds.FireMask * delta_days).astype(int)"
   ]
  },
  {
   "cell_type": "markdown",
   "id": "1206abca",
   "metadata": {},
   "source": [
    "Finally, we can mask non-hotspot pixels (values of 0) and take the minimum over time to get the first time, in days elapsed since start, that each pixel burned."
   ]
  },
  {
   "cell_type": "code",
   "execution_count": 8,
   "id": "023c2199",
   "metadata": {},
   "outputs": [],
   "source": [
    "first_burned = delta_days_fire.where(delta_days_fire != 0).min(\"time\")"
   ]
  },
  {
   "cell_type": "markdown",
   "id": "672f339e",
   "metadata": {},
   "source": [
    "And of course, plot it!"
   ]
  },
  {
   "cell_type": "code",
   "execution_count": 9,
   "id": "ca029779",
   "metadata": {},
   "outputs": [
    {
     "data": {
      "text/plain": [
       "<matplotlib.collections.QuadMesh at 0x7f6ef421e670>"
      ]
     },
     "execution_count": 9,
     "metadata": {},
     "output_type": "execute_result"
    },
    {
     "data": {
      "image/png": "[encoded data removed]",
      "text/plain": [
       "<Figure size 864x576 with 2 Axes>"
      ]
     },
     "metadata": {
      "needs_background": "light"
     },
     "output_type": "display_data"
    }
   ],
   "source": [
    "first_burned.plot(size=8, cmap=\"inferno_r\")"
   ]
  },
  {
   "cell_type": "markdown",
   "id": "74fb9f1c",
   "metadata": {},
   "source": [
    "## Hourly Progressions from GOES-16"
   ]
  },
  {
   "cell_type": "markdown",
   "id": "72d89999",
   "metadata": {},
   "source": [
    "Unlike MODIS which captures daily hotspots, GOES-16 captures hotspots every 5 minutes! This is great for tracking fast-moving fires, but it also means we have to deal with a lot more data. We can use `wxee` and the `aggregate_time` method to aggregate those 5-minute hotspots to hourly hotspots."
   ]
  },
  {
   "cell_type": "markdown",
   "id": "8c14d7c6",
   "metadata": {},
   "source": [
    "### Downloading GOES-16 data to xarray"
   ]
  },
  {
   "cell_type": "markdown",
   "id": "35a6bfc8",
   "metadata": {},
   "source": [
    "First, we'll load GOES-16 data over a time window that experienced explosive fire growth in the Western Cascades of Oregon in 2020."
   ]
  },
  {
   "cell_type": "code",
   "execution_count": 10,
   "id": "40f505a0",
   "metadata": {},
   "outputs": [
    {
     "name": "stdout",
     "output_type": "stream",
     "text": [
      "\u001b[1mNOAA/GOES/16/FDCC\u001b[0m\n",
      "\tImages: 288\n",
      "\tStart date: 2020-09-08 00:01:16 UTC\n",
      "\tEnd date: 2020-09-08 23:56:16 UTC\n",
      "\tMean interval: 5.00 minutes\n"
     ]
    }
   ],
   "source": [
    "ts = wxee.TimeSeries(\"NOAA/GOES/16/FDCC\").select(\"Mask\").filterDate(\"2020-09-08\", \"2020-09-09\")\n",
    "ts.describe(\"minute\")"
   ]
  },
  {
   "cell_type": "markdown",
   "id": "6e786bec",
   "metadata": {},
   "source": [
    "Like with MODIS, we'll have to convert mask codes to a binary fire mask. For GOES, we'll use the codes 10, 11, 30, and 31."
   ]
  },
  {
   "cell_type": "code",
   "execution_count": 11,
   "id": "8f576d1f",
   "metadata": {},
   "outputs": [],
   "source": [
    "def fire_mask(img):\n",
    "    mask = ee.Image(0).rename(\"fire\")\n",
    "    mask = (mask\n",
    "        .where(img.eq(10), 1)\n",
    "        .where(img.eq(11), 1)\n",
    "        .where(img.eq(30), 1)\n",
    "        .where(img.eq(31), 1)\n",
    "    )\n",
    "    # Copy the properties from the original images to avoid losing time data.\n",
    "    return mask.copyProperties(img, img.propertyNames())\n",
    "\n",
    "# Convert each mask class image into a binary fire presence mask\n",
    "fire_masks = ts.map(lambda img: fire_mask(img))"
   ]
  },
  {
   "cell_type": "markdown",
   "id": "5231808e",
   "metadata": {},
   "source": [
    "Now we can aggregate the 288 5-minute masks to 24 hourly masks. We'll use a max reducer, meaning that an hourly hotspot was detected at least once within the hour."
   ]
  },
  {
   "cell_type": "code",
   "execution_count": 12,
   "id": "3d78b650",
   "metadata": {},
   "outputs": [
    {
     "name": "stdout",
     "output_type": "stream",
     "text": [
      "\u001b[1mNOAA/GOES/16/FDCC\u001b[0m\n",
      "\tImages: 24\n",
      "\tStart date: 2020-09-08 00:01:16 UTC\n",
      "\tEnd date: 2020-09-08 23:01:16 UTC\n",
      "\tMean interval: 60.00 minutes\n"
     ]
    }
   ],
   "source": [
    "hourly_fire = fire_masks.aggregate_time(\"hour\", reducer=ee.Reducer.max())\n",
    "hourly_fire.describe(\"minute\")"
   ]
  },
  {
   "cell_type": "markdown",
   "id": "7ac0ee9c",
   "metadata": {},
   "source": [
    "Select a region around the largest 2020 fire, Beachie Creek."
   ]
  },
  {
   "cell_type": "code",
   "execution_count": 13,
   "id": "cfa366ba",
   "metadata": {},
   "outputs": [],
   "source": [
    "geom = ee.Geometry.Polygon(\n",
    "    [[[-122.77807114256022, 45.370803623985665],\n",
    "      [-122.77807114256022, 44.519360582318896],\n",
    "      [-121.46520493162272, 44.519360582318896],\n",
    "      [-121.46520493162272, 45.370803623985665]]]\n",
    ")"
   ]
  },
  {
   "cell_type": "markdown",
   "id": "bf2ac4af",
   "metadata": {},
   "source": [
    "And download the data to an `xarray.Dataset`."
   ]
  },
  {
   "cell_type": "code",
   "execution_count": 14,
   "id": "b7b87dc8",
   "metadata": {},
   "outputs": [
    {
     "data": {
      "application/vnd.jupyter.widget-view+json": {
       "model_id": "0f258966b370450db48ab77f5e551c2e",
       "version_major": 2,
       "version_minor": 0
      },
      "text/plain": [
       "Downloading collection:   0%|          | 0/24 [00:00<?, ?it/s]"
      ]
     },
     "metadata": {},
     "output_type": "display_data"
    }
   ],
   "source": [
    "ds = hourly_fire.wx.to_xarray(region=geom, scale=2_000, crs=\"EPSG:26910\")"
   ]
  },
  {
   "cell_type": "markdown",
   "id": "1d30702d",
   "metadata": {},
   "source": [
    "### Visualizing the Progression"
   ]
  },
  {
   "cell_type": "markdown",
   "id": "1a62da28",
   "metadata": {},
   "source": [
    "Like before, we'll convert our time series of fire masks into a single image showing when each area burned in time elapsed."
   ]
  },
  {
   "cell_type": "code",
   "execution_count": 15,
   "id": "6ac48efe",
   "metadata": {},
   "outputs": [],
   "source": [
    "start = ds.time.min()\n",
    "# Convert milliseconds to hours\n",
    "delta_hours = (ds.time - start) / 3_600_000_000_000\n",
    "\n",
    "delta_hours_fire = (ds.fire * delta_hours).astype(int)\n",
    "\n",
    "first_burned = delta_hours_fire.where(delta_hours_fire != 0).min(\"time\")"
   ]
  },
  {
   "cell_type": "markdown",
   "id": "a2c09d75",
   "metadata": {},
   "source": [
    "And plot it!"
   ]
  },
  {
   "cell_type": "code",
   "execution_count": 18,
   "id": "b31a7bb7",
   "metadata": {
    "scrolled": false
   },
   "outputs": [
    {
     "data": {
      "text/plain": [
       "<matplotlib.collections.QuadMesh at 0x7f6ef514b5e0>"
      ]
     },
     "execution_count": 18,
     "metadata": {},
     "output_type": "execute_result"
    },
    {
     "data": {
      "image/png": "[encoded data removed]",
      "text/plain": [
       "<Figure size 864x576 with 2 Axes>"
      ]
     },
     "metadata": {
      "needs_background": "light"
     },
     "output_type": "display_data"
    }
   ],
   "source": [
    "first_burned.plot(size=8, cmap=\"inferno_r\")"
   ]
  }
 ],
 "metadata": {
  "kernelspec": {
   "display_name": "Python 3 (ipykernel)",
   "language": "python",
   "name": "python3"
  },
  "language_info": {
   "codemirror_mode": {
    "name": "ipython",
    "version": 3
   },
   "file_extension": ".py",
   "mimetype": "text/x-python",
   "name": "python",
   "nbconvert_exporter": "python",
   "pygments_lexer": "ipython3",
   "version": "3.9.6"
  }
 },
 "nbformat": 4,
 "nbformat_minor": 5
}
